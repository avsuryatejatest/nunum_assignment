{
 "cells": [
  {
   "attachments": {
    "logo.jpg": {
     "image/jpeg": "[encoded data removed]"
    }
   },
   "cell_type": "markdown",
   "metadata": {},
   "source": [
    "![logo.jpg](attachment:logo.jpg)"
   ]
  },
  {
   "cell_type": "markdown",
   "metadata": {},
   "source": [
    "# Nunam - Assessment task"
   ]
  },
  {
   "cell_type": "markdown",
   "metadata": {},
   "source": [
    "## Creating csv files from excel sheets"
   ]
  },
  {
   "cell_type": "markdown",
   "metadata": {},
   "source": [
    "## Task1\n",
    "### 1. Create 3 separate *'*.csv'* files named 'detail.csv', 'detailVol.csv' and 'detailTemp.csv'.\n",
    "#### 1. Combine all the data in sheets named like \"Detail_67_\" only, among the two data files provided, and save into 'detail.csv'\n",
    "#### 2. Combine all the data in sheets named like \"DetailVol_67_\" only, among the two data files provided, and save into'detailVol.csv' \n",
    "#### 3. Combine all the data in sheets named like \"DetailTemp_67_\" only, among the two data files provided, and save into 'detailTemp.csv'"
   ]
  },
  {
   "cell_type": "markdown",
   "metadata": {},
   "source": [
    "### Installing xlrd package\n",
    "#### xlrd package is used to retrieve information from spreadsheet"
   ]
  },
  {
   "cell_type": "code",
   "execution_count": 6,
   "metadata": {},
   "outputs": [
    {
     "name": "stdout",
     "output_type": "stream",
     "text": [
      "Requirement already satisfied: xlrd in c:\\users\\lenovo\\appdata\\local\\programs\\python\\python38-32\\lib\\site-packages (1.2.0)\n",
      "Note: you may need to restart the kernel to use updated packages.\n"
     ]
    },
    {
     "name": "stderr",
     "output_type": "stream",
     "text": [
      "WARNING: You are using pip version 20.2.3; however, version 20.2.4 is available.\n",
      "You should consider upgrading via the 'c:\\users\\lenovo\\appdata\\local\\programs\\python\\python38-32\\python.exe -m pip install --upgrade pip' command.\n"
     ]
    }
   ],
   "source": [
    "pip install xlrd"
   ]
  },
  {
   "cell_type": "markdown",
   "metadata": {},
   "source": [
    "### Creating csv files\n",
    "#### Reading corresponding sheets from the given excel files and writing it into dataframes. All the dataframes, each containing a sheet information, are concatenated into a single dataframe. Using 'to_csv' function, the resultant dataframe is converted into corresponding csv file."
   ]
  },
  {
   "cell_type": "code",
   "execution_count": 7,
   "metadata": {},
   "outputs": [
    {
     "name": "stdout",
     "output_type": "stream",
     "text": [
      "CSV file :'detail.csv' created\n"
     ]
    }
   ],
   "source": [
    "import pandas as pd\n",
    "df1 = pd.read_excel('data.xls', sheet_name ='Detail_67_1_1')\n",
    "df2 = pd.read_excel('data.xls', sheet_name ='Detail_67_1_1_1')\n",
    "df3 = pd.read_excel('data.xls', sheet_name ='Detail_67_1_1_2')\n",
    "df4 = pd.read_excel('data.xls', sheet_name ='Detail_67_1_1_3')\n",
    "df5 = pd.read_excel('data.xls', sheet_name ='Detail_67_1_1_4')\n",
    "df6 = pd.read_excel('data.xls', sheet_name ='Detail_67_1_1_5')\n",
    "df7 = pd.read_excel('data.xls', sheet_name ='Detail_67_1_1_6')\n",
    "frames1 = [df1, df2, df3, df4, df5, df6, df7]\n",
    "final_df = pd.concat(frames1)\n",
    "final_df.to_csv('detail.csv')\n",
    "print(\"CSV file :'detail.csv' created\")"
   ]
  },
  {
   "cell_type": "code",
   "execution_count": 8,
   "metadata": {},
   "outputs": [
    {
     "name": "stdout",
     "output_type": "stream",
     "text": [
      "CSV file :'detailvol.csv' created\n"
     ]
    }
   ],
   "source": [
    "import pandas as pd\n",
    "df1 = pd.read_excel('data.xls', sheet_name ='DetailVol_67_1_1')\n",
    "df2 = pd.read_excel('data.xls', sheet_name ='DetailVol_67_1_1_1')\n",
    "df3 = pd.read_excel('data.xls', sheet_name ='DetailVol_67_1_1_2')\n",
    "df4 = pd.read_excel('data.xls', sheet_name ='DetailVol_67_1_1_3')\n",
    "df5 = pd.read_excel('data.xls', sheet_name ='DetailVol_67_1_1_4')\n",
    "df6 = pd.read_excel('data.xls', sheet_name ='DetailVol_67_1_1_5')\n",
    "df7 = pd.read_excel('data.xls', sheet_name ='DetailVol_67_1_1_6')\n",
    "frames2 = [df1, df2, df3, df4, df5, df6, df7]\n",
    "final_df = pd.concat(frames2)\n",
    "final_df.to_csv('detailvol.csv')\n",
    "print(\"CSV file :'detailvol.csv' created\")"
   ]
  },
  {
   "cell_type": "code",
   "execution_count": 9,
   "metadata": {},
   "outputs": [
    {
     "name": "stdout",
     "output_type": "stream",
     "text": [
      "CSV file :'detailtemp.csv' created\n"
     ]
    }
   ],
   "source": [
    "import pandas as pd\n",
    "df1 = pd.read_excel('data.xls', sheet_name ='DetailTemp_67_1_1')\n",
    "df2 = pd.read_excel('data.xls', sheet_name ='DetailTemp_67_1_1_1')\n",
    "df3 = pd.read_excel('data.xls', sheet_name ='DetailTemp_67_1_1_2')\n",
    "df4 = pd.read_excel('data_1.xls', sheet_name ='DetailTemp_67_1_1_3')\n",
    "df5 = pd.read_excel('data_1.xls', sheet_name ='DetailTemp_67_1_1_4')\n",
    "df6 = pd.read_excel('data_1.xls', sheet_name ='DetailTemp_67_1_1_5')\n",
    "df7 = pd.read_excel('data_1.xls', sheet_name ='DetailTemp_67_1_1_6')\n",
    "frames3 = [df1, df2, df3, df4, df5, df6, df7]\n",
    "final_df = pd.concat(frames3)\n",
    "final_df.to_csv('detailtemp.csv')\n",
    "print(\"CSV file :'detailtemp.csv' created\")"
   ]
  }
 ],
 "metadata": {
  "kernelspec": {
   "display_name": "Python 3",
   "language": "python",
   "name": "python3"
  },
  "language_info": {
   "codemirror_mode": {
    "name": "ipython",
    "version": 3
   },
   "file_extension": ".py",
   "mimetype": "text/x-python",
   "name": "python",
   "nbconvert_exporter": "python",
   "pygments_lexer": "ipython3",
   "version": "3.8.1"
  }
 },
 "nbformat": 4,
 "nbformat_minor": 4
}
